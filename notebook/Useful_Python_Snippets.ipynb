{
  "nbformat": 4,
  "nbformat_minor": 0,
  "metadata": {
    "colab": {
      "name": "Useful Python Snippets.ipynb",
      "provenance": [],
      "include_colab_link": true
    },
    "kernelspec": {
      "name": "python3",
      "display_name": "Python 3"
    }
  },
  "cells": [
    {
      "cell_type": "markdown",
      "metadata": {
        "id": "view-in-github",
        "colab_type": "text"
      },
      "source": [
        "<a href=\"https://colab.research.google.com/github/sanikamal/python-atoz/blob/master/Useful_Python_Snippets.ipynb\" target=\"_parent\"><img src=\"https://colab.research.google.com/assets/colab-badge.svg\" alt=\"Open In Colab\"/></a>"
      ]
    },
    {
      "cell_type": "markdown",
      "metadata": {
        "id": "219jiZfNUOGf",
        "colab_type": "text"
      },
      "source": [
        "Python is a general-purpose and high-level programming language. You can use Python for developing desktop GUI applications, websites, and web applications, for data science, etc. Also, Python, as a high-level programming language, allows you to focus on the core functionality of the application by taking care of common programming tasks. "
      ]
    },
    {
      "cell_type": "markdown",
      "metadata": {
        "id": "R7ElQR4PUUx3",
        "colab_type": "text"
      },
      "source": [
        "### The advantages of using Python\n",
        "- Compatible with major platforms and operating systems\n",
        "- Many open-source frameworks and tools\n",
        "- Readable and maintainable code\n",
        "- Robust standard library\n",
        "- Standard test-driven development"
      ]
    },
    {
      "cell_type": "markdown",
      "metadata": {
        "id": "mBHCJ1MZU-Q_",
        "colab_type": "text"
      },
      "source": [
        "###  Swap values between two variables"
      ]
    },
    {
      "cell_type": "code",
      "metadata": {
        "id": "3fm3ybg2UQM8",
        "colab_type": "code",
        "colab": {
          "base_uri": "https://localhost:8080/",
          "height": 51
        },
        "outputId": "d8b004fe-d7e8-40fb-dd1b-353cfb5a0992"
      },
      "source": [
        "a=90\n",
        "b=100\n",
        "a,b=b,a\n",
        "print(a)\n",
        "print(b)"
      ],
      "execution_count": 3,
      "outputs": [
        {
          "output_type": "stream",
          "text": [
            "100\n",
            "90\n"
          ],
          "name": "stdout"
        }
      ]
    },
    {
      "cell_type": "code",
      "metadata": {
        "id": "9OtKpG4qVJ1J",
        "colab_type": "code",
        "colab": {}
      },
      "source": [
        ""
      ],
      "execution_count": 0,
      "outputs": []
    }
  ]
}