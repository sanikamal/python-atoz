{
  "nbformat": 4,
  "nbformat_minor": 0,
  "metadata": {
    "colab": {
      "name": "Sorting-algorithms-python.ipynb",
      "provenance": [],
      "collapsed_sections": [],
      "include_colab_link": true
    },
    "kernelspec": {
      "name": "python3",
      "display_name": "Python 3"
    }
  },
  "cells": [
    {
      "cell_type": "markdown",
      "metadata": {
        "id": "view-in-github",
        "colab_type": "text"
      },
      "source": [
        "<a href=\"https://colab.research.google.com/github/sanikamal/python-atoz/blob/master/Sorting_algorithms_python.ipynb\" target=\"_parent\"><img src=\"https://colab.research.google.com/assets/colab-badge.svg\" alt=\"Open In Colab\"/></a>"
      ]
    },
    {
      "cell_type": "markdown",
      "metadata": {
        "id": "YiUjm0C2Y_CT",
        "colab_type": "text"
      },
      "source": [
        "# Sorting algorithms\n",
        "@ Sani Kamal, 2019"
      ]
    },
    {
      "cell_type": "markdown",
      "metadata": {
        "id": "MujIjJJQZj2K",
        "colab_type": "text"
      },
      "source": [
        "# Bubble Sort\n",
        "\n",
        "---\n",
        "\n",
        "\n",
        "\n",
        "Bubble sort steps through the list and compares adjacent pairs of elements. The elements are swapped if they are in the wrong order. The pass through the unsorted portion of the list is repeated until the list is sorted. Because Bubble sort repeatedly passes through the unsorted part of the list, it has a worst case complexity of `O(n²)`."
      ]
    },
    {
      "cell_type": "code",
      "metadata": {
        "id": "DpQjGKG4aFIp",
        "colab_type": "code",
        "colab": {}
      },
      "source": [
        "def bubble_sort(arr):\n",
        "  def swap(i, j):\n",
        "    arr[i], arr[j] = arr[j], arr[i]\n",
        "\n",
        "    n = len(arr)\n",
        "    swapped = True\n",
        "    \n",
        "    x = -1\n",
        "    while swapped:\n",
        "      swapped = False\n",
        "      x = x + 1\n",
        "      for i in range(1, n-x):\n",
        "        if arr[i - 1] > arr[i]:\n",
        "          swap(i - 1, i)\n",
        "          swapped = True\n",
        "                    \n",
        "  return arr"
      ],
      "execution_count": 0,
      "outputs": []
    },
    {
      "cell_type": "code",
      "metadata": {
        "id": "LXnTfyAec2ki",
        "colab_type": "code",
        "outputId": "048ee4b9-21c0-49d6-fe85-cceb4f39c508",
        "colab": {
          "base_uri": "https://localhost:8080/",
          "height": 35
        }
      },
      "source": [
        "bubble_sort([8,4,9,7])"
      ],
      "execution_count": 0,
      "outputs": [
        {
          "output_type": "execute_result",
          "data": {
            "text/plain": [
              "[8, 4, 9, 7]"
            ]
          },
          "metadata": {
            "tags": []
          },
          "execution_count": 5
        }
      ]
    },
    {
      "cell_type": "markdown",
      "metadata": {
        "id": "BKmdcY_idvS5",
        "colab_type": "text"
      },
      "source": [
        "# Selection Sort\n",
        "\n",
        "---\n",
        "\n",
        "\n",
        "\n",
        "Selection sort is also quite simple but frequently outperforms bubble sort. If you are choosing between the two, it’s best to just default right to selection sort. With Selection sort, we divide our input list / array into two parts: the sublist of items already sorted and the sublist of items remaining to be sorted that make up the rest of the list. We first find the smallest element in the unsorted sublist and place it at the end of the sorted sublist. Thus, we are continuously grabbing the smallest unsorted element and placing it in sorted order in the sorted sublist. This process continues iteratively until the list is fully sorted."
      ]
    },
    {
      "cell_type": "code",
      "metadata": {
        "id": "9GQPi3VWd97Y",
        "colab_type": "code",
        "colab": {}
      },
      "source": [
        "def selection_sort(arr):\n",
        "  for i in range(len(arr)):\n",
        "    minimum = i\n",
        "    for j in range(i + 1, len(arr)):\n",
        "      # Select the smallest value\n",
        "      if arr[j] < arr[minimum]:\n",
        "        minimum = j\n",
        "    # Place it at the front of the \n",
        "    # sorted end of the array\n",
        "    arr[minimum], arr[i] = arr[i], arr[minimum]\n",
        "  return arr"
      ],
      "execution_count": 0,
      "outputs": []
    },
    {
      "cell_type": "code",
      "metadata": {
        "id": "Mul4JShqgTCt",
        "colab_type": "code",
        "outputId": "c051b11d-68ef-4661-8de0-4dbef37be6c3",
        "colab": {
          "base_uri": "https://localhost:8080/",
          "height": 35
        }
      },
      "source": [
        "selection_sort([3,1,9,5,4])"
      ],
      "execution_count": 0,
      "outputs": [
        {
          "output_type": "execute_result",
          "data": {
            "text/plain": [
              "[1, 3, 4, 5, 9]"
            ]
          },
          "metadata": {
            "tags": []
          },
          "execution_count": 10
        }
      ]
    },
    {
      "cell_type": "markdown",
      "metadata": {
        "id": "ClDcEmRdeFg1",
        "colab_type": "text"
      },
      "source": [
        "# Insertion Sort\n",
        "\n",
        "---\n",
        "\n",
        "\n",
        "\n",
        "Insertion sort is both faster and well-arguably more simplistic than both bubble sort and selection sort. Funny enough, it’s how many people sort their cards when playing a card game! On each loop iteration, insertion sort removes one element from the array. It then finds the location where that element belongs within another sorted array and inserts it there. It repeats this process until no input elements remain."
      ]
    },
    {
      "cell_type": "code",
      "metadata": {
        "id": "eiP98XP9eMqG",
        "colab_type": "code",
        "colab": {}
      },
      "source": [
        "def insertion_sort(arr, simulation=False):\n",
        "  for i in range(len(arr)):\n",
        "    cursor = arr[i]\n",
        "    pos = i\n",
        "        \n",
        "    while pos > 0 and arr[pos - 1] > cursor:\n",
        "      # Swap the number down the list\n",
        "      arr[pos] = arr[pos - 1]\n",
        "      pos = pos - 1\n",
        "    # Break and do the final swap\n",
        "    arr[pos] = cursor\n",
        "\n",
        "  return arr"
      ],
      "execution_count": 0,
      "outputs": []
    },
    {
      "cell_type": "code",
      "metadata": {
        "id": "_N8uD-WahdmD",
        "colab_type": "code",
        "outputId": "02ebc3df-394a-464f-efd7-d36fd02535c5",
        "colab": {
          "base_uri": "https://localhost:8080/",
          "height": 35
        }
      },
      "source": [
        "insertion_sort([6,2,1,8])"
      ],
      "execution_count": 0,
      "outputs": [
        {
          "output_type": "execute_result",
          "data": {
            "text/plain": [
              "[1, 2, 6, 8]"
            ]
          },
          "metadata": {
            "tags": []
          },
          "execution_count": 13
        }
      ]
    },
    {
      "cell_type": "markdown",
      "metadata": {
        "id": "xQb_bwsleQVN",
        "colab_type": "text"
      },
      "source": [
        "# Merge Sort\n",
        "\n",
        "---\n",
        "\n",
        "\n",
        "\n",
        "Merge sort is a perfectly elegant example of a Divide and Conquer algorithm. It simple uses the 2 main steps of such an algorithm:\n",
        "\n",
        "(1) Continuously divide the unsorted list until you have N sublists, where each sublist has 1 element that is “unsorted” and N is the number of elements in the original array.\n",
        "\n",
        "(2) Repeatedly merge i.e conquer the sublists together 2 at a time to produce new sorted sublists until all elements have been fully merged into a single sorted array."
      ]
    },
    {
      "cell_type": "code",
      "metadata": {
        "id": "oIwCxb7Pekix",
        "colab_type": "code",
        "colab": {}
      },
      "source": [
        "def merge_sort(arr):\n",
        "    # The last array split\n",
        "    if len(arr) <= 1:\n",
        "        return arr\n",
        "    mid = len(arr) // 2\n",
        "    # Perform merge_sort recursively on both halves\n",
        "    left, right = merge_sort(arr[:mid]), merge_sort(arr[mid:])\n",
        "\n",
        "    # Merge each side together\n",
        "    return merge(left, right, arr.copy())\n",
        "\n",
        "\n",
        "def merge(left, right, merged):\n",
        "\n",
        "    left_cursor, right_cursor = 0, 0\n",
        "    while left_cursor < len(left) and right_cursor < len(right):\n",
        "      \n",
        "        # Sort each one and place into the result\n",
        "        if left[left_cursor] <= right[right_cursor]:\n",
        "            merged[left_cursor+right_cursor]=left[left_cursor]\n",
        "            left_cursor += 1\n",
        "        else:\n",
        "            merged[left_cursor + right_cursor] = right[right_cursor]\n",
        "            right_cursor += 1\n",
        "            \n",
        "    for left_cursor in range(left_cursor, len(left)):\n",
        "        merged[left_cursor + right_cursor] = left[left_cursor]\n",
        "        \n",
        "    for right_cursor in range(right_cursor, len(right)):\n",
        "        merged[left_cursor + right_cursor] = right[right_cursor]\n",
        "\n",
        "    return merged"
      ],
      "execution_count": 0,
      "outputs": []
    },
    {
      "cell_type": "code",
      "metadata": {
        "id": "0UnYy8v4hvbP",
        "colab_type": "code",
        "outputId": "d8bfba9c-5af4-4f98-d8af-6276c319f421",
        "colab": {
          "base_uri": "https://localhost:8080/",
          "height": 35
        }
      },
      "source": [
        "merge_sort([9,67,1,5])"
      ],
      "execution_count": 0,
      "outputs": [
        {
          "output_type": "execute_result",
          "data": {
            "text/plain": [
              "[1, 5, 9, 67]"
            ]
          },
          "metadata": {
            "tags": []
          },
          "execution_count": 15
        }
      ]
    },
    {
      "cell_type": "markdown",
      "metadata": {
        "id": "zfWsBorRepAD",
        "colab_type": "text"
      },
      "source": [
        "# Quick Sort\n",
        "\n",
        "---\n",
        "\n",
        "\n",
        "\n",
        "Quick sort is also a divide and conquer algorithm like merge sort. Although it’s a bit more complicated, in most standard implementations it performs significantly faster than merge sort and rarely reaches its worst case complexity of ` O(n²)`. It has 3 main steps:\n",
        "\n",
        "(1) We first select an element which we will call the pivot from the array.\n",
        "\n",
        "(2) Move all elements that are smaller than the pivot to the left of the pivot; move all elements that are larger than the pivot to the right of the pivot. This is called the partition operation.\n",
        "\n",
        "(3) Recursively apply the above 2 steps separately to each of the sub-arrays of elements with smaller and bigger values than the last pivot."
      ]
    },
    {
      "cell_type": "code",
      "metadata": {
        "id": "UAibXa5YfMYn",
        "colab_type": "code",
        "colab": {}
      },
      "source": [
        "def partition(array, begin, end):\n",
        "    pivot_idx = begin\n",
        "    for i in range(begin+1, end+1):\n",
        "        if array[i] <= array[begin]:\n",
        "            pivot_idx += 1\n",
        "            array[i], array[pivot_idx] = array[pivot_idx], array[i]\n",
        "    array[pivot_idx], array[begin] = array[begin], array[pivot_idx]\n",
        "    return pivot_idx\n",
        "\n",
        "def quick_sort_recursion(array, begin, end):\n",
        "    if begin >= end:\n",
        "        return\n",
        "    pivot_idx = partition(array, begin, end)\n",
        "    quick_sort_recursion(array, begin, pivot_idx-1)\n",
        "    quick_sort_recursion(array, pivot_idx+1, end)\n",
        "\n",
        "def quick_sort(array, begin=0, end=None):\n",
        "    if end is None:\n",
        "        end = len(array) - 1\n",
        "    \n",
        "    return quick_sort_recursion(array, begin, end)"
      ],
      "execution_count": 0,
      "outputs": []
    },
    {
      "cell_type": "code",
      "metadata": {
        "id": "REnFpddOiGZ8",
        "colab_type": "code",
        "colab": {}
      },
      "source": [
        ""
      ],
      "execution_count": 0,
      "outputs": []
    },
    {
      "cell_type": "code",
      "metadata": {
        "id": "0T8SI6xtiN-t",
        "colab_type": "code",
        "colab": {}
      },
      "source": [
        ""
      ],
      "execution_count": 0,
      "outputs": []
    }
  ]
}